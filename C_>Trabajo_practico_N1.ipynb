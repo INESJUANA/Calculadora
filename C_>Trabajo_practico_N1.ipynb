{
  "nbformat": 4,
  "nbformat_minor": 0,
  "metadata": {
    "colab": {
      "provenance": [],
      "include_colab_link": true
    },
    "kernelspec": {
      "name": "python3",
      "display_name": "Python 3"
    },
    "language_info": {
      "name": "python"
    }
  },
  "cells": [
    {
      "cell_type": "markdown",
      "metadata": {
        "id": "view-in-github",
        "colab_type": "text"
      },
      "source": [
        "<a href=\"https://colab.research.google.com/github/INESJUANA/Calculadora/blob/main/C_%3ETrabajo_practico_N1.ipynb\" target=\"_parent\"><img src=\"https://colab.research.google.com/assets/colab-badge.svg\" alt=\"Open In Colab\"/></a>"
      ]
    },
    {
      "cell_type": "markdown",
      "source": [
        "# ***TRABAJO INTEGRADOR APLICADO N 1***"
      ],
      "metadata": {
        "id": "PU0V5R5rNsne"
      }
    },
    {
      "cell_type": "markdown",
      "source": [
        "**EJERCICIO 1**\n",
        "\n",
        "Determinar si un numero ingresado por el usuario es PAR"
      ],
      "metadata": {
        "id": "kwBfCKCRNyxc"
      }
    },
    {
      "cell_type": "code",
      "source": [
        "# print(int(input(\"Ingrese un numero: \"))% 2)\n",
        "n = int(input(\"Ingrese un numero entero: \"))\n",
        "if ((n % 2) == 0):\n",
        "  print(\"Es un número par\")\n",
        "else:\n",
        "  print(\"Es un número impar\")"
      ],
      "metadata": {
        "colab": {
          "base_uri": "https://localhost:8080/"
        },
        "id": "gOCleF-kKoPi",
        "outputId": "ff4e3407-f673-4ea0-f8e6-03105476e397"
      },
      "execution_count": null,
      "outputs": [
        {
          "output_type": "stream",
          "name": "stdout",
          "text": [
            "Ingrese un numero entero: 0\n",
            "Es un número par\n"
          ]
        }
      ]
    },
    {
      "cell_type": "markdown",
      "source": [
        "**EJERCICIO 2**\n",
        "\n",
        "Determinar si un numero ingresado por el usuario esta DENTRO DEL RANGO [1,10] y es par. MUESTRE UN MENSAJE EN CASO CONTRARIO 'NÚMERO FUERA DEL RANGO'"
      ],
      "metadata": {
        "id": "KKY6JsexOCUy"
      }
    },
    {
      "cell_type": "code",
      "source": [
        "n = int(input(\"Ingrese un número: \"))\n",
        "print(n in range(1, 10))"
      ],
      "metadata": {
        "id": "iCFiSWE2FJvh",
        "colab": {
          "base_uri": "https://localhost:8080/"
        },
        "outputId": "2d17972c-da5f-40d1-9496-b55aee71c494"
      },
      "execution_count": null,
      "outputs": [
        {
          "output_type": "stream",
          "name": "stdout",
          "text": [
            "Ingrese un número: 1\n",
            "True\n"
          ]
        }
      ]
    },
    {
      "cell_type": "markdown",
      "source": [
        "**EJERCICIO 3 CICLO FOR**\n",
        "\n",
        "\n",
        "Solicitar al usuario que ingrese 10 números. Calcule la suma de todos los números ingresados y  cuente cuántos de ellos son par.\n"
      ],
      "metadata": {
        "id": "cfitfYKpQK2O"
      }
    },
    {
      "cell_type": "code",
      "source": [
        "numerosPar = []\n",
        "sumaTotal= 0\n",
        "for x in range(10):\n",
        "  n = int(input(\"Ingrese un número: \"))\n",
        "  if ((n % 2) == 0):\n",
        "    numerosPar.append(n)\n",
        "    sumaTotal += n\n",
        "  else:\n",
        "    sumaTotal += n\n",
        "print(\"Numeros que son Par: \", numerosPar)\n",
        "print(\"La suma total de pares e impares dio: \", sumaTotal)"
      ],
      "metadata": {
        "id": "2lrpu4UVFWz-",
        "colab": {
          "base_uri": "https://localhost:8080/"
        },
        "outputId": "1d7839c8-b76e-43be-80a8-d9696b86658c"
      },
      "execution_count": null,
      "outputs": [
        {
          "output_type": "stream",
          "name": "stdout",
          "text": [
            "Ingrese un número: 1\n",
            "Ingrese un número: 2\n",
            "Ingrese un número: 3\n",
            "Ingrese un número: 4\n",
            "Ingrese un número: 5\n",
            "Ingrese un número: 6\n",
            "Ingrese un número: 7\n",
            "Ingrese un número: 8\n",
            "Ingrese un número: 9\n",
            "Ingrese un número: 10\n",
            "Numeros que son Par:  [2, 4, 6, 8, 10]\n",
            "La suma total de pares e impares dio:  55\n"
          ]
        }
      ]
    },
    {
      "cell_type": "markdown",
      "source": [
        "**EJERCICIOS 4**\n",
        "\n",
        "Mostrar todos los números presentes en el rango [56,1230]\n",
        "Solicitar al usuario que ingrese el rango [a,b] y muestre todos los números pertenecientes a él."
      ],
      "metadata": {
        "id": "7YyBaMyyRh7I"
      }
    },
    {
      "cell_type": "code",
      "source": [
        "start = int(input(\"Desde donde quiere contar?\"))\n",
        "end = int(input(\"Hasta donde quiere contar?\"))\n",
        "for x in range(start, end + 1):\n",
        "  print(x)"
      ],
      "metadata": {
        "colab": {
          "base_uri": "https://localhost:8080/"
        },
        "id": "Ll5i1djhvnoc",
        "outputId": "24b514e7-6089-421c-8d2e-e1329b6eeaea"
      },
      "execution_count": null,
      "outputs": [
        {
          "output_type": "stream",
          "name": "stdout",
          "text": [
            "Desde donde quiere contar?5\n",
            "Hasta donde quiere contar?10\n",
            "5\n",
            "6\n",
            "7\n",
            "8\n",
            "9\n",
            "10\n"
          ]
        }
      ]
    },
    {
      "cell_type": "markdown",
      "source": [
        "**EJERCICIO 5 CICLO WHILE**\n",
        "\n",
        "Solicitar al usuario que ingrese un número, si es negativo o nulo , solicitar reiteradamente hasta que ingrese un numero positivo."
      ],
      "metadata": {
        "id": "sCYdUm5DOpPk"
      }
    },
    {
      "cell_type": "code",
      "source": [
        "while (int(input(\"Ingrese un número positivo:\"))) < 1:\n",
        "  print(\"No se aceptan números negativos ni nulos, vuelva a intentar.\")\n",
        "print(\"Número correcto.\")"
      ],
      "metadata": {
        "colab": {
          "base_uri": "https://localhost:8080/"
        },
        "id": "FO2MhC5dwaQd",
        "outputId": "0390ae52-a964-4634-ef56-9e61453db20f"
      },
      "execution_count": null,
      "outputs": [
        {
          "name": "stdout",
          "output_type": "stream",
          "text": [
            "Ingrese un número positivo:-1\n",
            "No se aceptan números negativos ni nulos\n",
            "Ingrese un número positivo:-1\n",
            "No se aceptan números negativos ni nulos\n",
            "Ingrese un número positivo:0\n",
            "No se aceptan números negativos ni nulos\n",
            "Ingrese un número positivo:-66\n",
            "No se aceptan números negativos ni nulos\n",
            "Ingrese un número positivo:5\n"
          ]
        }
      ]
    },
    {
      "cell_type": "markdown",
      "source": [
        "**EJERCICIO 6**\n",
        "\n",
        "Solicitar al usuario que ingrese un número, si el número es positivo , solicitar reiteradamente hasta que ingrese un numero negativo. Luego mostrar dicho número si es par, en caso contrario mostrar un mensaje 'número ingresado impar'."
      ],
      "metadata": {
        "id": "Snkm3EDCSb6n"
      }
    },
    {
      "cell_type": "code",
      "source": [
        "n = 0\n",
        "while n >= 0:\n",
        "  n = int(input(\"Ingrese un número negativo: \"))\n",
        "  if (n >= 0):\n",
        "    print(\"No se aceptan números positivos\")\n",
        "  elif ((n % 2) == 0):\n",
        "    print(\"es par: \", n)\n",
        "  else:\n",
        "    print(\"número impar.\")"
      ],
      "metadata": {
        "colab": {
          "base_uri": "https://localhost:8080/"
        },
        "id": "TKp4bmtrx5dt",
        "outputId": "2cc67dae-7074-4a76-cb56-5b59531cbe14"
      },
      "execution_count": null,
      "outputs": [
        {
          "output_type": "stream",
          "name": "stdout",
          "text": [
            "Ingrese un número negativo: 3\n",
            "No se aceptan números positivos\n",
            "Ingrese un número negativo: 2\n",
            "No se aceptan números positivos\n",
            "Ingrese un número negativo: -2\n",
            "-2\n"
          ]
        }
      ]
    },
    {
      "cell_type": "markdown",
      "source": [
        "**EJERCICIO 7 VECTORES CON CICLO FOR**\n",
        "\n",
        "Solicitar al usuario que ingrese la cantidad de elementos del vector.\n",
        "Ingresar cada elemento del vector y calcular su promedio.AYUDA: EL PROMEDIO ES LA SUMA DE TODOS LOS NÚMEROS DIVIDO LA CANTIDAD TOTAL.\n",
        "Mostrar el vector."
      ],
      "metadata": {
        "id": "sypNigFYS3iU"
      }
    },
    {
      "cell_type": "code",
      "source": [
        "vector = []\n",
        "total = 0\n",
        "for x in range(3):\n",
        "  n = int(input(\"Ingrese un número: \"))\n",
        "  vector.append(n)\n",
        "  total += n\n",
        "\n",
        "print(\"Promedio: \", total/len(vector))\n",
        "vector"
      ],
      "metadata": {
        "colab": {
          "base_uri": "https://localhost:8080/"
        },
        "id": "nuA5slAF01Nw",
        "outputId": "1ab43830-d3e5-44ef-b940-59c937fe046e"
      },
      "execution_count": null,
      "outputs": [
        {
          "output_type": "stream",
          "name": "stdout",
          "text": [
            "Ingrese un número: 3\n",
            "Ingrese un número: 6\n",
            "Ingrese un número: 9\n",
            "Promedio:  6.0\n"
          ]
        },
        {
          "output_type": "execute_result",
          "data": {
            "text/plain": [
              "[3, 6, 9]"
            ]
          },
          "metadata": {},
          "execution_count": 26
        }
      ]
    },
    {
      "cell_type": "markdown",
      "source": [
        "**EJERCICIO 8 LISTA CON CICLO FOR**\n",
        "\n",
        "Solicitar a 10 usuario que ingresen los siguientes datos en el formato lista.\n",
        "\n",
        "['NOMBRE','APELLIDO', 'DNI','GASTOS MENSUALES DE HOGAR']\n",
        "\n",
        "Ingresar el final de la lista los siguientes usuarios:\n",
        "\n",
        "['ESTEBAN','LOPEZ', '45675400','190800.80']\n",
        "\n",
        "['NOELIA','ALEJA', '46906875','85900.50']\n",
        "\n",
        "Mostrar el vector.\n",
        "Eliminar el primer usuario de la lista."
      ],
      "metadata": {
        "id": "W15_ajQyULBo"
      }
    },
    {
      "cell_type": "code",
      "source": [
        "lista = []\n",
        "for x in range(2): #Le puse 2 para no escribir tanto, solo se cambia a 10 para que sea fiel al ejercicio\n",
        "  usuario = []\n",
        "  usuario.append(input(\"Nombre: \"))\n",
        "  usuario.append(input(\"Apellido: \"))\n",
        "  usuario.append(input(\"DNI: \"))\n",
        "  usuario.append(float(input(\"Gastos mensuales: \")))\n",
        "  lista.append(usuario)\n",
        "lista.append(['ESTEBAN','LOPEZ', '45675400','190800.80'])\n",
        "lista.append(['NOELIA','ALEJA', '46906875','85900.50'])\n",
        "print(\"Lista completa: \", lista)\n",
        "lista.pop(0)\n",
        "print(\"Lista final: \")\n",
        "lista"
      ],
      "metadata": {
        "colab": {
          "base_uri": "https://localhost:8080/"
        },
        "id": "N8dPNilZ2U4k",
        "outputId": "20812273-189d-4e5b-b55d-760efc2c6192"
      },
      "execution_count": null,
      "outputs": [
        {
          "output_type": "stream",
          "name": "stdout",
          "text": [
            "Nombre: Juan\n",
            "Apellido: bgll\n",
            "DNI: 36\n",
            "Gastos mensuales: 0.23\n",
            "Nombre: Mariela\n",
            "Apellido: deci\n",
            "DNI: 4444444\n",
            "Gastos mensuales: 44.443\n",
            "[['Juan', 'bgll', '36', 0.23], ['Mariela', 'deci', '4444444', 44.443], ['ESTEBAN', 'LOPEZ', '45675400', '190800.80'], ['NOELIA', 'ALEJA', '46906875', '85900.50']]\n"
          ]
        },
        {
          "output_type": "execute_result",
          "data": {
            "text/plain": [
              "[['Mariela', 'deci', '4444444', 44.443],\n",
              " ['ESTEBAN', 'LOPEZ', '45675400', '190800.80'],\n",
              " ['NOELIA', 'ALEJA', '46906875', '85900.50']]"
            ]
          },
          "metadata": {},
          "execution_count": 30
        }
      ]
    },
    {
      "cell_type": "markdown",
      "source": [
        "**EJERCICIO 9 LISTA CON CICLO FOR**\n",
        "\n",
        "Buscar en la web los datos pablacionales de todas las provicias de Argentina , generando una lista con los siguiente información.\n",
        "\n",
        "['PROVINCIA','CANTIDAD DE HABITANTES', 'CONSUMO ELECTRICO PER CAPITA','SUPERFICIE EN M^2']\n",
        "\n",
        "\n",
        "\n",
        "Mostrar TODOS LOS DATOS DEL LISTADO.\n",
        "\n"
      ],
      "metadata": {
        "id": "5x1DqNkpTWzi"
      }
    },
    {
      "cell_type": "markdown",
      "source": [
        "**EJERCICIO 10 LISTA **\n",
        "\n",
        "Crear una lista con información de estudianes de un colegio donde incluya los siguientes items:\n",
        "\n",
        "\n",
        "*   curso y división del aula del alumno\n",
        "*   nombre y apellidos\n",
        "*   DNI\n",
        "*   cantidad de notas en el primer trimestre\n",
        "*   INGRESAR CADA UNA DE ESAS NOTAS, POR EL USUARIO\n",
        "*   promedio del trimestre\n",
        "\n",
        "Mostrar todos los nombres y apellidos de los  alumnos\n",
        "Mostrar los alumnos con promedio mayor o igual a 6\n",
        "\n",
        "\n"
      ],
      "metadata": {
        "id": "SVaFh43fTwt3"
      }
    }
  ]
}